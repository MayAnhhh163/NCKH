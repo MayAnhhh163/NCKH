{
  "cells": [
    {
      "cell_type": "markdown",
      "metadata": {
        "id": "view-in-github",
        "colab_type": "text"
      },
      "source": [
        "<a href=\"https://colab.research.google.com/github/MayAnhhh163/NCKH/blob/main/SVM%2BRF.ipynb\" target=\"_parent\"><img src=\"https://colab.research.google.com/assets/colab-badge.svg\" alt=\"Open In Colab\"/></a>"
      ]
    },
    {
      "cell_type": "code",
      "execution_count": null,
      "metadata": {
        "colab": {
          "base_uri": "https://localhost:8080/"
        },
        "id": "YuGJ9afSY5zP",
        "outputId": "ba2cb83d-de30-46d3-bf31-23fd04f2c8cc"
      },
      "outputs": [
        {
          "output_type": "stream",
          "name": "stderr",
          "text": [
            "[nltk_data] Downloading package punkt to /root/nltk_data...\n",
            "[nltk_data]   Unzipping tokenizers/punkt.zip.\n"
          ]
        }
      ],
      "source": [
        "# Import the libraries\n",
        "import numpy as np\n",
        "import pandas as pd\n",
        "import matplotlib.pyplot as plt\n",
        "import matplotlib.style\n",
        "import seaborn as sns\n",
        "import nltk #Natural Language Toolkit\n",
        "#To ignore warnings\n",
        "nltk.download('punkt')\n",
        "import warnings\n",
        "warnings.filterwarnings('ignore')\n",
        "\n",
        "from sklearn.metrics import accuracy_score, precision_score, recall_score, f1_score\n"
      ]
    },
    {
      "cell_type": "code",
      "execution_count": null,
      "metadata": {
        "colab": {
          "base_uri": "https://localhost:8080/"
        },
        "id": "IYXkA1eoDyRl",
        "outputId": "afcb3cb2-f7e7-49a0-8631-f7918f7e77a6"
      },
      "outputs": [
        {
          "output_type": "stream",
          "name": "stderr",
          "text": [
            "[nltk_data] Downloading package stopwords to /root/nltk_data...\n",
            "[nltk_data]   Unzipping corpora/stopwords.zip.\n",
            "[nltk_data] Downloading package wordnet to /root/nltk_data...\n",
            "[nltk_data] Downloading package punkt to /root/nltk_data...\n",
            "[nltk_data]   Package punkt is already up-to-date!\n"
          ]
        },
        {
          "output_type": "stream",
          "name": "stdout",
          "text": [
            "Requirement already satisfied: nltk in /usr/local/lib/python3.10/dist-packages (3.9.1)\n",
            "Requirement already satisfied: click in /usr/local/lib/python3.10/dist-packages (from nltk) (8.1.7)\n",
            "Requirement already satisfied: joblib in /usr/local/lib/python3.10/dist-packages (from nltk) (1.4.2)\n",
            "Requirement already satisfied: regex>=2021.8.3 in /usr/local/lib/python3.10/dist-packages (from nltk) (2024.11.6)\n",
            "Requirement already satisfied: tqdm in /usr/local/lib/python3.10/dist-packages (from nltk) (4.67.1)\n"
          ]
        },
        {
          "output_type": "stream",
          "name": "stderr",
          "text": [
            "[nltk_data] Downloading package punkt_tab to /root/nltk_data...\n",
            "[nltk_data]   Unzipping tokenizers/punkt_tab.zip.\n"
          ]
        },
        {
          "output_type": "execute_result",
          "data": {
            "text/plain": [
              "True"
            ]
          },
          "metadata": {},
          "execution_count": 2
        }
      ],
      "source": [
        "import pandas as pd\n",
        "from bs4 import BeautifulSoup\n",
        "import re\n",
        "from nltk.corpus import stopwords\n",
        "from nltk.stem import WordNetLemmatizer\n",
        "from nltk.tokenize import word_tokenize\n",
        "import nltk\n",
        "nltk.download('stopwords')\n",
        "nltk.download('wordnet')\n",
        "nltk.download('punkt')\n",
        "!pip install nltk\n",
        "import nltk\n",
        "nltk.download('punkt_tab')\n"
      ]
    },
    {
      "cell_type": "code",
      "execution_count": null,
      "metadata": {
        "colab": {
          "base_uri": "https://localhost:8080/"
        },
        "id": "tmBMF8dHyF7s",
        "outputId": "e2b97ffb-9253-4ca2-f69c-3384211c4730"
      },
      "outputs": [
        {
          "output_type": "stream",
          "name": "stdout",
          "text": [
            "Mounted at /content/drive\n"
          ]
        }
      ],
      "source": [
        "from google.colab import drive\n",
        "drive.mount('/content/drive')\n",
        "import pandas as pd"
      ]
    },
    {
      "cell_type": "code",
      "execution_count": null,
      "metadata": {
        "colab": {
          "base_uri": "https://localhost:8080/"
        },
        "id": "Ipzls30YysXr",
        "outputId": "37155cc9-cb1f-4a8c-c659-61f757576043"
      },
      "outputs": [
        {
          "output_type": "stream",
          "name": "stdout",
          "text": [
            "       File Name                                              Title  \\\n",
            "0  10000847.html  Wells Fargo – Banking, Credit Cards, Loans, Mo...   \n",
            "1  10000855.html  La Banque Postale - Banque et Assurance en lig...   \n",
            "2  10000856.html                                   LCL - Mon espace   \n",
            "3  10000946.html                                           No title   \n",
            "4  10000976.html                                           Facebook   \n",
            "\n",
            "                                             Content  Result  \n",
            "0  Wells Fargo – Banking, Credit Cards, Loans, Mo...     1.0  \n",
            "1  La Banque Postale - Banque et Assurance en lig...     1.0  \n",
            "2  LCL - Mon espace\\nVotre identifiant\\nMémoriser...     1.0  \n",
            "3  ov&-5qtm_^yDKx!FcUWSM^AK2%9bB9~4O>4#!MXy5N3-Mp...     1.0  \n",
            "4  Facebook\\nMessenger\\nAlbin Berisha\\nAlbin shar...     1.0  \n"
          ]
        }
      ],
      "source": [
        "# Đường dẫn đến file CSV trên Google Drive (điều chỉnh theo vị trí file của bạn)\n",
        "file_path = '/content/drive/Shared drives/NCKH/DATA/Data_scrap_merged1.csv'\n",
        "\n",
        "df = pd.read_csv(file_path)\n",
        "print(df.head())"
      ]
    },
    {
      "cell_type": "code",
      "execution_count": null,
      "metadata": {
        "colab": {
          "base_uri": "https://localhost:8080/",
          "height": 206
        },
        "id": "gIRicuBI6hvu",
        "outputId": "65b058e8-d355-40eb-a336-b4c5b9b1d4e9"
      },
      "outputs": [
        {
          "output_type": "execute_result",
          "data": {
            "text/plain": [
              "       File Name                                              Title  \\\n",
              "0  10000847.html  Wells Fargo – Banking, Credit Cards, Loans, Mo...   \n",
              "1  10000855.html  La Banque Postale - Banque et Assurance en lig...   \n",
              "2  10000856.html                                   LCL - Mon espace   \n",
              "3  10000946.html                                           No title   \n",
              "4  10000976.html                                           Facebook   \n",
              "\n",
              "                                             Content  Result  \n",
              "0  Wells Fargo – Banking, Credit Cards, Loans, Mo...     1.0  \n",
              "1  La Banque Postale - Banque et Assurance en lig...     1.0  \n",
              "2  LCL - Mon espace\\nVotre identifiant\\nMémoriser...     1.0  \n",
              "3  ov&-5qtm_^yDKx!FcUWSM^AK2%9bB9~4O>4#!MXy5N3-Mp...     1.0  \n",
              "4  Facebook\\nMessenger\\nAlbin Berisha\\nAlbin shar...     1.0  "
            ],
            "text/html": [
              "\n",
              "  <div id=\"df-ca4e2208-2fca-4773-b14e-55623fd7dc7c\" class=\"colab-df-container\">\n",
              "    <div>\n",
              "<style scoped>\n",
              "    .dataframe tbody tr th:only-of-type {\n",
              "        vertical-align: middle;\n",
              "    }\n",
              "\n",
              "    .dataframe tbody tr th {\n",
              "        vertical-align: top;\n",
              "    }\n",
              "\n",
              "    .dataframe thead th {\n",
              "        text-align: right;\n",
              "    }\n",
              "</style>\n",
              "<table border=\"1\" class=\"dataframe\">\n",
              "  <thead>\n",
              "    <tr style=\"text-align: right;\">\n",
              "      <th></th>\n",
              "      <th>File Name</th>\n",
              "      <th>Title</th>\n",
              "      <th>Content</th>\n",
              "      <th>Result</th>\n",
              "    </tr>\n",
              "  </thead>\n",
              "  <tbody>\n",
              "    <tr>\n",
              "      <th>0</th>\n",
              "      <td>10000847.html</td>\n",
              "      <td>Wells Fargo – Banking, Credit Cards, Loans, Mo...</td>\n",
              "      <td>Wells Fargo – Banking, Credit Cards, Loans, Mo...</td>\n",
              "      <td>1.0</td>\n",
              "    </tr>\n",
              "    <tr>\n",
              "      <th>1</th>\n",
              "      <td>10000855.html</td>\n",
              "      <td>La Banque Postale - Banque et Assurance en lig...</td>\n",
              "      <td>La Banque Postale - Banque et Assurance en lig...</td>\n",
              "      <td>1.0</td>\n",
              "    </tr>\n",
              "    <tr>\n",
              "      <th>2</th>\n",
              "      <td>10000856.html</td>\n",
              "      <td>LCL - Mon espace</td>\n",
              "      <td>LCL - Mon espace\\nVotre identifiant\\nMémoriser...</td>\n",
              "      <td>1.0</td>\n",
              "    </tr>\n",
              "    <tr>\n",
              "      <th>3</th>\n",
              "      <td>10000946.html</td>\n",
              "      <td>No title</td>\n",
              "      <td>ov&amp;-5qtm_^yDKx!FcUWSM^AK2%9bB9~4O&gt;4#!MXy5N3-Mp...</td>\n",
              "      <td>1.0</td>\n",
              "    </tr>\n",
              "    <tr>\n",
              "      <th>4</th>\n",
              "      <td>10000976.html</td>\n",
              "      <td>Facebook</td>\n",
              "      <td>Facebook\\nMessenger\\nAlbin Berisha\\nAlbin shar...</td>\n",
              "      <td>1.0</td>\n",
              "    </tr>\n",
              "  </tbody>\n",
              "</table>\n",
              "</div>\n",
              "    <div class=\"colab-df-buttons\">\n",
              "\n",
              "  <div class=\"colab-df-container\">\n",
              "    <button class=\"colab-df-convert\" onclick=\"convertToInteractive('df-ca4e2208-2fca-4773-b14e-55623fd7dc7c')\"\n",
              "            title=\"Convert this dataframe to an interactive table.\"\n",
              "            style=\"display:none;\">\n",
              "\n",
              "  <svg xmlns=\"http://www.w3.org/2000/svg\" height=\"24px\" viewBox=\"0 -960 960 960\">\n",
              "    <path d=\"M120-120v-720h720v720H120Zm60-500h600v-160H180v160Zm220 220h160v-160H400v160Zm0 220h160v-160H400v160ZM180-400h160v-160H180v160Zm440 0h160v-160H620v160ZM180-180h160v-160H180v160Zm440 0h160v-160H620v160Z\"/>\n",
              "  </svg>\n",
              "    </button>\n",
              "\n",
              "  <style>\n",
              "    .colab-df-container {\n",
              "      display:flex;\n",
              "      gap: 12px;\n",
              "    }\n",
              "\n",
              "    .colab-df-convert {\n",
              "      background-color: #E8F0FE;\n",
              "      border: none;\n",
              "      border-radius: 50%;\n",
              "      cursor: pointer;\n",
              "      display: none;\n",
              "      fill: #1967D2;\n",
              "      height: 32px;\n",
              "      padding: 0 0 0 0;\n",
              "      width: 32px;\n",
              "    }\n",
              "\n",
              "    .colab-df-convert:hover {\n",
              "      background-color: #E2EBFA;\n",
              "      box-shadow: 0px 1px 2px rgba(60, 64, 67, 0.3), 0px 1px 3px 1px rgba(60, 64, 67, 0.15);\n",
              "      fill: #174EA6;\n",
              "    }\n",
              "\n",
              "    .colab-df-buttons div {\n",
              "      margin-bottom: 4px;\n",
              "    }\n",
              "\n",
              "    [theme=dark] .colab-df-convert {\n",
              "      background-color: #3B4455;\n",
              "      fill: #D2E3FC;\n",
              "    }\n",
              "\n",
              "    [theme=dark] .colab-df-convert:hover {\n",
              "      background-color: #434B5C;\n",
              "      box-shadow: 0px 1px 3px 1px rgba(0, 0, 0, 0.15);\n",
              "      filter: drop-shadow(0px 1px 2px rgba(0, 0, 0, 0.3));\n",
              "      fill: #FFFFFF;\n",
              "    }\n",
              "  </style>\n",
              "\n",
              "    <script>\n",
              "      const buttonEl =\n",
              "        document.querySelector('#df-ca4e2208-2fca-4773-b14e-55623fd7dc7c button.colab-df-convert');\n",
              "      buttonEl.style.display =\n",
              "        google.colab.kernel.accessAllowed ? 'block' : 'none';\n",
              "\n",
              "      async function convertToInteractive(key) {\n",
              "        const element = document.querySelector('#df-ca4e2208-2fca-4773-b14e-55623fd7dc7c');\n",
              "        const dataTable =\n",
              "          await google.colab.kernel.invokeFunction('convertToInteractive',\n",
              "                                                    [key], {});\n",
              "        if (!dataTable) return;\n",
              "\n",
              "        const docLinkHtml = 'Like what you see? Visit the ' +\n",
              "          '<a target=\"_blank\" href=https://colab.research.google.com/notebooks/data_table.ipynb>data table notebook</a>'\n",
              "          + ' to learn more about interactive tables.';\n",
              "        element.innerHTML = '';\n",
              "        dataTable['output_type'] = 'display_data';\n",
              "        await google.colab.output.renderOutput(dataTable, element);\n",
              "        const docLink = document.createElement('div');\n",
              "        docLink.innerHTML = docLinkHtml;\n",
              "        element.appendChild(docLink);\n",
              "      }\n",
              "    </script>\n",
              "  </div>\n",
              "\n",
              "\n",
              "<div id=\"df-190c41b2-b185-4d15-be91-d401e6c4807d\">\n",
              "  <button class=\"colab-df-quickchart\" onclick=\"quickchart('df-190c41b2-b185-4d15-be91-d401e6c4807d')\"\n",
              "            title=\"Suggest charts\"\n",
              "            style=\"display:none;\">\n",
              "\n",
              "<svg xmlns=\"http://www.w3.org/2000/svg\" height=\"24px\"viewBox=\"0 0 24 24\"\n",
              "     width=\"24px\">\n",
              "    <g>\n",
              "        <path d=\"M19 3H5c-1.1 0-2 .9-2 2v14c0 1.1.9 2 2 2h14c1.1 0 2-.9 2-2V5c0-1.1-.9-2-2-2zM9 17H7v-7h2v7zm4 0h-2V7h2v10zm4 0h-2v-4h2v4z\"/>\n",
              "    </g>\n",
              "</svg>\n",
              "  </button>\n",
              "\n",
              "<style>\n",
              "  .colab-df-quickchart {\n",
              "      --bg-color: #E8F0FE;\n",
              "      --fill-color: #1967D2;\n",
              "      --hover-bg-color: #E2EBFA;\n",
              "      --hover-fill-color: #174EA6;\n",
              "      --disabled-fill-color: #AAA;\n",
              "      --disabled-bg-color: #DDD;\n",
              "  }\n",
              "\n",
              "  [theme=dark] .colab-df-quickchart {\n",
              "      --bg-color: #3B4455;\n",
              "      --fill-color: #D2E3FC;\n",
              "      --hover-bg-color: #434B5C;\n",
              "      --hover-fill-color: #FFFFFF;\n",
              "      --disabled-bg-color: #3B4455;\n",
              "      --disabled-fill-color: #666;\n",
              "  }\n",
              "\n",
              "  .colab-df-quickchart {\n",
              "    background-color: var(--bg-color);\n",
              "    border: none;\n",
              "    border-radius: 50%;\n",
              "    cursor: pointer;\n",
              "    display: none;\n",
              "    fill: var(--fill-color);\n",
              "    height: 32px;\n",
              "    padding: 0;\n",
              "    width: 32px;\n",
              "  }\n",
              "\n",
              "  .colab-df-quickchart:hover {\n",
              "    background-color: var(--hover-bg-color);\n",
              "    box-shadow: 0 1px 2px rgba(60, 64, 67, 0.3), 0 1px 3px 1px rgba(60, 64, 67, 0.15);\n",
              "    fill: var(--button-hover-fill-color);\n",
              "  }\n",
              "\n",
              "  .colab-df-quickchart-complete:disabled,\n",
              "  .colab-df-quickchart-complete:disabled:hover {\n",
              "    background-color: var(--disabled-bg-color);\n",
              "    fill: var(--disabled-fill-color);\n",
              "    box-shadow: none;\n",
              "  }\n",
              "\n",
              "  .colab-df-spinner {\n",
              "    border: 2px solid var(--fill-color);\n",
              "    border-color: transparent;\n",
              "    border-bottom-color: var(--fill-color);\n",
              "    animation:\n",
              "      spin 1s steps(1) infinite;\n",
              "  }\n",
              "\n",
              "  @keyframes spin {\n",
              "    0% {\n",
              "      border-color: transparent;\n",
              "      border-bottom-color: var(--fill-color);\n",
              "      border-left-color: var(--fill-color);\n",
              "    }\n",
              "    20% {\n",
              "      border-color: transparent;\n",
              "      border-left-color: var(--fill-color);\n",
              "      border-top-color: var(--fill-color);\n",
              "    }\n",
              "    30% {\n",
              "      border-color: transparent;\n",
              "      border-left-color: var(--fill-color);\n",
              "      border-top-color: var(--fill-color);\n",
              "      border-right-color: var(--fill-color);\n",
              "    }\n",
              "    40% {\n",
              "      border-color: transparent;\n",
              "      border-right-color: var(--fill-color);\n",
              "      border-top-color: var(--fill-color);\n",
              "    }\n",
              "    60% {\n",
              "      border-color: transparent;\n",
              "      border-right-color: var(--fill-color);\n",
              "    }\n",
              "    80% {\n",
              "      border-color: transparent;\n",
              "      border-right-color: var(--fill-color);\n",
              "      border-bottom-color: var(--fill-color);\n",
              "    }\n",
              "    90% {\n",
              "      border-color: transparent;\n",
              "      border-bottom-color: var(--fill-color);\n",
              "    }\n",
              "  }\n",
              "</style>\n",
              "\n",
              "  <script>\n",
              "    async function quickchart(key) {\n",
              "      const quickchartButtonEl =\n",
              "        document.querySelector('#' + key + ' button');\n",
              "      quickchartButtonEl.disabled = true;  // To prevent multiple clicks.\n",
              "      quickchartButtonEl.classList.add('colab-df-spinner');\n",
              "      try {\n",
              "        const charts = await google.colab.kernel.invokeFunction(\n",
              "            'suggestCharts', [key], {});\n",
              "      } catch (error) {\n",
              "        console.error('Error during call to suggestCharts:', error);\n",
              "      }\n",
              "      quickchartButtonEl.classList.remove('colab-df-spinner');\n",
              "      quickchartButtonEl.classList.add('colab-df-quickchart-complete');\n",
              "    }\n",
              "    (() => {\n",
              "      let quickchartButtonEl =\n",
              "        document.querySelector('#df-190c41b2-b185-4d15-be91-d401e6c4807d button');\n",
              "      quickchartButtonEl.style.display =\n",
              "        google.colab.kernel.accessAllowed ? 'block' : 'none';\n",
              "    })();\n",
              "  </script>\n",
              "</div>\n",
              "\n",
              "    </div>\n",
              "  </div>\n"
            ],
            "application/vnd.google.colaboratory.intrinsic+json": {
              "type": "dataframe",
              "variable_name": "df",
              "summary": "{\n  \"name\": \"df\",\n  \"rows\": 75038,\n  \"fields\": [\n    {\n      \"column\": \"File Name\",\n      \"properties\": {\n        \"dtype\": \"string\",\n        \"num_unique_values\": 75037,\n        \"samples\": [\n          \"1606836136133789.html\",\n          \"1613533594131343.html\",\n          \"1613571423152735.html\"\n        ],\n        \"semantic_type\": \"\",\n        \"description\": \"\"\n      }\n    },\n    {\n      \"column\": \"Title\",\n      \"properties\": {\n        \"dtype\": \"string\",\n        \"num_unique_values\": 45643,\n        \"samples\": [\n          \"\\n   Login \\u2013 Earl Rivers Regiment of Foote\\n  \",\n          \"\\n   When I login Google Drive or OneDrive, is it possible not to reveal the password letter by letter? : ViewSonic Customer Care\\n  \",\n          \"\\n   close-up view \\u2014 \\u0441 \\u0430\\u043d\\u0433\\u043b\\u0438\\u0439\\u0441\\u043a\\u043e\\u0433\\u043e \\u043d\\u0430 \\u0440\\u0443\\u0441\\u0441\\u043a\\u0438\\u0439\\n  \"\n        ],\n        \"semantic_type\": \"\",\n        \"description\": \"\"\n      }\n    },\n    {\n      \"column\": \"Content\",\n      \"properties\": {\n        \"dtype\": \"string\",\n        \"num_unique_values\": 52417,\n        \"samples\": [\n          \"Main Content\\nSkip to Main Content\\nEnter the following information to update your COVID-19 Income Benefit Return Information.\\nRequired fields\\n*\\nSocial Security Number\\n*\\nor Individual Taxpayer Identification Number\\nRequired Field\\nSocial Security Number first 3 digits Required Field\\n-\\nSocial Security Number middle 2 digits Required Field\\n-\\nSocial Security Number last 4 digits Required Field\\nFirst Name\\n*\\nRequired Field\\nLast Name\\n*\\nRequired Field\\nAddress (Number and Street)\\n*\\nRequired Field\\nAddress Number and Street Required Field\\nDate of Birth\\n*\\nRequired Field\\nDate of Birth Month MM Required Field\\n/\\nDate of Birth Day DD Required Field\\n/\\nDate of Birth Year Y Y Y Y Required Field\\nMM / DD / YYYY\\nDirect Deposit\\n*\\nRequired Field\\nSelect One\\nchecking Account\\nSavings Account\\nBank Name\\n*\\nRequired Field\\nBank Name\\nAccount Number\\n*\\nAccount Number\\nRouting Number\\n*\\nWages Required if it appears on your tax return\\nBank Address\\n*\\nRequired Field\\nCountry\\n*\\nRequired Field\\nOccupation Required if it appears on your tax return\\nAfghanistan\\nAkrotiri Sov Base Area\\nAlbania\\nAlgeria\\nAndorra\\nAngola\\nAnguilla\\nAntarctica\\nAntigua & Barbuda\\nArgentina\\nArmenia\\nAruba\\nAshmore & Cartier Is\\nAustralia\\nAustria\\nAzerbaijan\\nBahrain\\nBaker Island\\nBangladesh\\nBarbados\\nBassas da India\\nBelarus\\nBelgium\\nBelize\\nBenin\\nBermuda\\nBhutan\\nBolivia\\nBosnia-Herzegovina\\nBotswana\\nBouvet Island\\nBrazil\\nBritish Indian Ocean Terr\\nBritish Virgin Islands\\nBrunei\\nBulgaria\\nBurkina Faso\\nBurma\\nBurundi\\nCambodia\\nCameroon\\nCanada\\nCape Verde\\nCayman Islands\\nCentral African Republic\\nChad\\nChile\\nChina\\nChristmas Island\\nClipperton Islands\\nCocos Island\\nColombia\\nComoros\\nCongo\\nCook Islands\\nCoral Sea Islands Territory\\nCosta Rica\\nCote d'Ivoire\\nCroatia\\nCuba\\nCyprus\\nCzech Republic\\nDem People's Rep of Korea\\nDem Rep of Congo\\nDenmark\\nDhekelia Sov Base Area\\nDjibouti\\nDominica\\nDominican Republic\\nEast Timor\\nEcuador\\nEgypt\\nEl Salvador\\nEngland\\nEquatorial Guinea\\nEritrea\\nEstonia\\nEthiopia\\nEuropa Island\\nFalkland Islands\\nFaroe Islands\\nFiji\\nFinland\\nFr Southern & Antarctic Lands\\nFrance\\nFrench Guiana\\nFrench Polynesia\\nGabon\\nGaza Strip\\nGeorgia\\nGermany\\nGhana\\nGibraltar\\nGlorioso Islands\\nGreat Britain\\nGreece\\nGreenland\\nGrenada\\nGuadeloupe\\nGuatemala\\nGuernsey\\nGuinea\\nGuinea-Bissau\\nGuyana\\nHaiti\\nHeard Is & McDonald Is\\nHonduras\\nHong Kong\\nHowland Island\\nHungary\\nIceland\\nIndia\\nIndonesia\\nIran\\nIraq\\nIreland\\nIsle of Man\\nIsrael\\nItaly\\nJamaica\\nJan Mayen\\nJapan\\nJarvis Island\\nJersey\\nJohnston Atoll\\nJordan\\nJuan de Nova Island\\nKazakhstan\\nKenya\\nKingman Reef\\nKiribati\\nKuwait\\nKyrgyzstan\\nLaos\\nLatvia\\nLebanon\\nLesotho\\nLiberia\\nLibya\\nLiechtenstein\\nLithuania\\nLuxembourg\\nMacau\\nMacedonia\\nMadagascar\\nMalawi\\nMalaysia\\nMaldives\\nMali\\nMalta\\nMartinique\\nMauritania\\nMauritius\\nMayotte\\nMexico\\nMidway Islands\\nMoldova\\nMonaco\\nMongolia\\nMontenegro\\nMontserrat\\nMorocco\\nMozambique\\nNamibia\\nNauru\\nNavassa Island\\nNepal\\nNetherlands\\nNetherlands Antilles\\nNew Caledonia\\nNew Zealand\\nNicaragua\\nNiger\\nNigeria\\nNiue\\nNorfolk Island\\nNorway\\nOman\\nPakistan\\nPalmyra Atoll\\nPanama\\nPapua New Guinea\\nParacel Islands\\nParaguay\\nPeru\\nPhilippines\\nPitcairn Islands\\nPoland\\nPortugal\\nQatar\\nRepublic of Korea\\nReunion\\nRomania\\nRussia\\nRwanda\\nS Georgia & S Sandwich Is\\nSan Marino\\nSao Tome and Principe\\nSaudi Arabia\\nScotland\\nSenegal\\nSerbia\\nSeychelles\\nSierra Leone\\nSingapore\\nSlovakia\\nSlovenia\\nSolomon Islands\\nSomalia\\nSouth Africa\\nSpain\\nSpratly Islands\\nSri Lanka\\nSt Helena\\nSt Kitts\\nSt Lucia\\nSt Pierre & Miquelon\\nSt Vincent & Grenadines\\nSudan\\nSuriname\\nSvalbard\\nSwaziland\\nSweden\\nSwitzerland\\nSyria\\nTaiwan\\nTajikistan\\nTanzania\\nThailand\\nThe Bahamas\\nThe Gambia\\nTogo\\nTokelau\\nTonga\\nTrinidad and Tobago\\nTromelin Island\\nTunisia\\nTurkey\\nTurkmenistan\\nTurks & Caicos Islands\\nTuvalu\\nUganda\\nUkraine\\nUnited Arab Emirates\\nUnited Kingdom\\nUnited States\\nUruguay\\nUzbekistan\\nVanuatu\\nVatican City\\nVenezuela\\nVietnam\\nWake Island\\nWales\\nWallisand Futuna\\nWest Bank\\nWestern Sahara\\nWestern Samoa\\nYemen\\nYugoslavia\\nZambia\\nZimbabwe\\nCity/County/Province\\n*\\nRequired Field\\nCity, County or Province Only Enter City if U S Address Required Field\\nState/U.S. Territory\\nSelect One\\nAlabama (AL)\\nAlaska (AK)\\nArizona (AZ)\\nArkansas (AR)\\nCalifornia (CA)\\nColorado (CO)\\nConnecticut (CT)\\nDelaware (DE)\\nDistrict of Columbia (DC)\\nFlorida (FL)\\nGeorgia (GA)\\nHawaii (HI)\\nIdaho (ID)\\nIllinois (IL)\\nIndiana (IN)\\nIowa (IA)\\nKansas (KS)\\nKentucky (KY)\\nLouisiana (LA)\\nMaine (ME)\\nMaryland (MD)\\nMassachusetts (MA)\\nMichigan (MI)\\nMinnesota (MN)\\nMississippi (MS)\\nMissouri (MO)\\nMontana (MT)\\nNebraska (NE)\\nNevada (NV)\\nNew Hampshire (NH)\\nNew Jersey (NJ)\\nNew Mexico (NM)\\nNew York (NY)\\nNorth Carolina (NC)\\nNorth Dakota (ND)\\nOhio (OH)\\nOklahoma (OK)\\nOregon (OR)\\nPennsylvania (PA)\\nRhode Island (RI)\\nSouth Carolina (SC)\\nSouth Dakota (SD)\\nTennessee (TN)\\nTexas (TX)\\nUtah (UT)\\nVermont (VT)\\nVirginia (VA)\\nWashington (WA)\\nWest Virginia (WV)\\nWisconsin (WI)\\nWyoming (WY)\\n-------\\nAmerican Samoa (AS)\\nFederated States of Micronesia (FM)\\nGuam (GU)\\nMarshall Islands (MH)\\nNorthern Mariana Islands (MP)\\nPalau (PW)\\nPuerto Rico (PR)\\nVirgin Islands (VI)\\n-------\\nArmed Forces Africa (AE)\\nArmed Forces Americas (AA)\\nArmed Forces Canada (AE)\\nArmed Forces Europe (AE)\\nArmed Forces Middle East (AE)\\nArmed Forces Pacific (AP)\\nZIP Code/Postal Code\\nZIP Code or Postal Code Only Required if U S Address\\nState or US Territory Only Required if U S Address\\nIRS Privacy Policy\\n|\\nPrivacy Notice\\n&lt;!-- Mirrored from sa.www4.irs.gov/wmar/start.do by HTTrack Website Copier/3.x [XR&amp;CO'2014], Sun, 22 Nov 2015 14:22:03 GMT --&gt;\",\n          \"Hotel Software: A Complete Cloud Hotel Management Software\\nHome\\nAbout\\nAbout us\\nTeam\\nCareer\\nSuccess stories\\nmycloud Status\\nSolutions\\nHotel Property Management Software\\nF&B Management\\nE-Distribution\\nHotel Back Office Software\\nSocial Tools\\nGuest Services Management Software\\nContactless Check-in & Dining\\nNews\\nBlog\\nPartners\\nOur Partners\\nReseller\\nMarketplace\\nIndustry affiliation\\nDemo\\nPricing\\nContact\\n+1-415-390-5039\\nstart free trial\\nLOGIN\\nGLOBAL LIVE LOGIN\\nUK LIVE\\nTRIAL LOGIN\\nCloud-Based Hotel Software Offering Contactless Check-in, Check-out & Dining\\nTechnology for today\\u2019s hotel challenges\\nZERO UPFRONT FEE\\nPMS LIVE IN 4 HOURS\\n24/7 SUPPORT GUARANTEED\\nSTART FREE TRIAL\\nAbout\\nUs\\nmycloud Hospitality (award-winning hotel software) has been developed by Prologic First, an independent, one of top hospitality software companies and a private company with over a decade and a half\\u2019s experience delivering end to end IT technology solutions to the hospitality industry across the UK, Canada, USA, Asia, Africa, and the Middle East. With an intuitive design and ready-to-use features, mycloud is a leading hotel software that automates complete hotel operations and improves revenue within your budget.\\nWith mycloud Hospitality powered by advanced & secure technology, we help hoteliers to run business in profit. We constantly improve efficiencies, and we seamlessly hone our global network of trusted partners and suppliers. Our key strength lies on the fully customizable product, which fits any size property, and a budget-friendly cloud hotel software with complete hotel operations modules, and trusted & loved by hotels across 35+ countries.\\nINTRODUCING\\nMYCLOUD HOSPITALITY\\nFrom selling your rooms at the optimal price to serving your guests well enough for them to refer your hotel to others, mycloud offers you all the tools you need. Your benefit?\\nImproved revenues at\\nLOWER COSTS\\nSMOOTHER OPERATIONS\\nMORE DELIGHTED GUESTS\\nWHAT ARE YOU\\nWAITING\\nFOR?\\nSTART FREE TRIAL\\nmycloud is very efficient hotel solution and can be setup very fast. After implementing mycloud I found that it improved overall efficiency of the front desk. mycloud Solution is very user friendly and extremely easy to understand and operate even for a first time user.\\nIt has helped us improve our level of service. In a nutshell, I think it is a good system and I am really happy that it is helping us right now\\nMoses Barnabas\\nXVA Art Hotel\\nmycloud, property management system has been very helpful with managing and organizing our hotel operations. If I have any questions, comments, or concerns, mycloud team is always willing to help me.\\nI always get a very quick response from them! Amazing support!\\nAudrey Stevens\\nLegend of French Lick Resort\\nmycloud PMS runs at it bests to ensure smoothness of our front office department, also keeping accurate track record of statistics for the management team in order to make vital decision.\\nAlex Bressers\\nBYD Lofts Boutique Hotel &\\nServiced Apartments\\nWe travel a lot and want to be able to see how the occupancy is at anytime. We wanted a technology, which could connect our HO to property and also help us manage multiple properties. With mycloud adoption not only have we streamlined our operations but also seen a 20% jump in occupancy.\\nIt has allowed us to, with the same amount of staff, grow our company and plan for future growth.\\nNesar\\nN-Hospitality\\n\\u201cOur experience with myCloud Hospitality is splendid. It saves working time, user friendly interface and great support team\\u201d.\\nKannika Akarasilpwong\\nManaging Director Dusit Buncha Resort \\u2013 Kho Tao\\nOUR\\nBENEFITS\\nOptimize\\nrevenue\\nOptimize\\nrevenue\\nDirect two way connect to channels and single image availability. Manage Rates in real time.\\nMore Direct\\nBookings\\nMore Direct\\nBookings\\nLet guests book direct from your website over mobile devices by making payments and getting instant confirmations.\\nAvoid cloud\\ndisasters\\nAvoid cloud\\ndisasters\\nUser based access, additional IP based authorization. Hourly critical data backups sent to system admin.\\nProtect\\nyour IT\\nProtect\\nyour IT\\nEasy to use, no more dedicated IT people, basic hardware requirement.\\nGreen\\nIT\\nGreen\\nIT\\nManage guest facing to admin activity over digital formats and soft copies.\\nNo More Lost\\nreservations\\nNo More Lost\\nreservations\\nNo more emails and manual updates, get reservations dynamically into PMS with alerts.\\nNo More\\nLost Sales\\nNo More\\nLost Sales\\nMultiple options for guest to book rooms, real-time rates and availability, instant payment capture.\\nSocial media and\\nreputation management\\nSocial media and\\nreputation management\\nGet all your guest feedbacks in single screen, see the feedback heat map, understand and improve guest satisfaction score.\\nmycloud PMS\\nmycloud POS\\nE-DISTRIBUTION\\nmycloud BACK OFFICE\\nSOCIAL LISTENING\\nGUEST MANAGEMENT SOFTWARE\\nMYCLOUD\\nProperty Management Software\\nA cloud based online hotel management software which is reliable and secure to manage your hotel\\u2019s operations, like reservations, check-in, check-out, guest history, feedbacks, travel agents & companies.\\nCONTINUE READING\\nSTART FREE TRIAL\\nMYCLOUD\\nPOINT-OF-SALE SOFTWARE\\nOnline restaurant e-POS software to manage restaurants or gift shops, manage multiple operations like, order taking, restaurant billing, settlements, statistics and reporting for restaurants, bars and other chargeable services in your hotel.\\nCONTINUE READING\\nSTART FREE TRIAL\\nE-Distribution\\nNow optimize your global online visibility, no more logging into each extranet to manage your hotel\\u2019s distribution. Integrated mobile based hotel booking engine and\\nchannel manager\\nthat will help increase revenue and perform tedious rate update tasks easily and efficiently. Start today and maximise your distribution and online visibility, improve revenue returns while reducing operational costs and benefit from operational efficiencies.\\nCONTINUE READING\\nSTART FREE TRIAL\\nmycloud HOTEL BACK OFFICE SOFTWARE\\nmycloud Back Office is a unique hospitality back office system that complies with both the Uniform System of Hospitality Accounting and Statutory Reporting. It is web-based and can be deployed on-site, hosted at a chain data center or can be used as a service. It is a rare integrated material and financial accounting system and offers all that you can expect from a contemporary software.\\nCONTINUE READING\\nSTART FREE TRIAL\\nSocial\\nListening\\nSocial media buzz is vital in travel choices and successful social media programs begin with listening, now engage with social media that goes beyond Facebook and Twitter. It\\u2019s a first of its kind service that can help hotels tap into pertinent customer feedback and guest sentiments via the seamlessly integrated social media \\u2019console\\u2019.\\nCONTINUE READING\\nSTART FREE TRIAL\\nmycloud GUEST MANAGEMENT SOFTWARE\\nA complete, fully-featured, easy-to-use hotel guest service management software with comprehensive support at a surprisingly affordable cost. It helps hoteliers to serve more customers in less time, improving their revenues whilst creating a memorable customer experience that their guests will return to and recommend to their friends.\\nCONTINUE READING\\nSTART FREE TRIAL\\nmycloud PMS\\nMYCLOUD\\nProperty Management Software\\nA cloud based online hotel management software which is reliable and secure to manage your hotel\\u2019s operations, like reservations, check-in, check-out, guest history, feedbacks, travel agents & companies.\\nCONTINUE READING\\nSTART FREE TRIAL\\nmycloud POS\\nMYCLOUD\\nPOINT-OF-SALE SOFTWARE\\nOnline restaurant e-POS software to manage restaurants or gift shops, manage multiple operations like, order taking, restaurant billing, settlements, statistics and reporting for restaurants, bars and other chargeable services in your hotel.\\nCONTINUE READING\\nSTART FREE TRIAL\\nE-DISTRIBUTION\\nE-Distribution\\nNow optimize your global online visibility, no more logging into each extranet to manage your hotel\\u2019s distribution. Integrated mobile based hotel booking engine and\\nchannel manager\\nthat will help increase revenue and perform tedious rate update tasks easily and efficiently. Start today and maximise your distribution and online visibility, improve revenue returns while reducing operational costs and benefit from operational efficiencies.\\nCONTINUE READING\\nSTART FREE TRIAL\\nmycloud BACK OFFICE\\nmycloud HOTEL BACK OFFICE SOFTWARE\\nmycloud Back Office is a unique hospitality back office system that complies with both the Uniform System of Hospitality Accounting and Statutory Reporting. It is web-based and can be deployed on-site, hosted at a chain data center or can be used as a service. It is a rare integrated material and financial accounting system and offers all that you can expect from a contemporary software.\\nCONTINUE READING\\nSTART FREE TRIAL\\nSOCIAL LISTENING\\nSocial\\nListening\\nSocial media buzz is vital in travel choices and successful social media programs begin with listening, now engage with social media that goes beyond Facebook and Twitter. It\\u2019s a first of its kind service that can help hotels tap into pertinent customer feedback and guest sentiments via the seamlessly integrated social media \\u2019console\\u2019.\\nCONTINUE READING\\nSTART FREE TRIAL\\nGUEST MANAGEMENT SOFTWARE\\nmycloud GUEST MANAGEMENT SOFTWARE\\nA complete, fully-featured, easy-to-use hotel guest service management software with comprehensive support at a surprisingly affordable cost. It helps hoteliers to serve more customers in less time, improving their revenues whilst creating a memorable customer experience that their guests will return to and recommend to their friends.\\nCONTINUE READING\\nSTART FREE TRIAL\\nBook a Free Online Demo\\nOur online demo takes about 30-60 minutes and you would need a desktop or laptop with microphone,\\nspeakers and Internet connectivity. Time shown here is in EST (Eastern Standard Time, -5:00 GMT)\\nSchedule An Appointment\\nSALIENT\\nFEATURES\\nmycloud is more than just another \\u201cPMS\\u201d,\\nNow spend more time serving your guest and not managing it.\\nLow learning Curve\\nManage all your guest facing services, with little or no training.\\nSentiments\\nSocial media sentiment listening\\nZero Investment\\nZERO investment, no Contracts, no risk\\nAdvanced pms\\nFeature rich PMS to match Desktop solutions\\nSimple to use\\nManages complex operations yet simple to use\\nMobile pos\\nmycloud PMS works well with cellular Internet, satellite and even with 56K dial-up.\\n24/7 Support\\n24/7 Support Online, dedicated hotel domain experts to assist you.\\nChannel Manager\\nRespond quickly to market changes with integrated channel manager\\n175+ Interfaces\\nLibrary of over 175+ interfaces to connect to third party hardware and software\\nSelf Learning\\nOnline training and extensive online FAQ, video tutorial library, so users can self-learn anytime\\nFREQUENTLY ASKED\\nQUESTIONS\\nWhat is Cloud Solution? And how is it better than the on-premises solution?\\nThe name comes from the common use of a cloud-shaped symbol as an abstraction for the complex infrastructure it contains in system diagrams. Cloud computing is a style of computing, where IT-related capabilities are provided \\u2018as a service,\\u2019 allowing users to access technology-enabled services \\u2018in the cloud\\u2019 without knowledge or expertise and control over the technology infrastructure that supports them. Cloud offers a lower cost of ownership, quicker training, lower learning curve, faster company-wide updates, and a quick return-on-investment.\\nWhat do we do to ensure the security of data of our hotel clients?\\nOur system follows GDPR and PCI-compliance ready security and has in-built user management security. Moreover, access to the hosted server is limited and password policy to access the server is maintained. We backup the data in real-time on S3. The complete database is encrypted and secured.\\nWhat preventive measures have we been taking against cyber-crime?\\nWe provide the IP address-based access to our registered users. Moreover, firewalls, anti-spam, and anti-virus tools have been configured to catch and get alert of any intrusion. We have tested our software against OWASP top 10 vulnerability assessment and have taken care of any vulnerability in our application as well.\\nWhat reports do you offer in mycloud PMS? Can I export the reports in an excel file or pdf file?\\nmycloud PMS offers over 350 reports, which include standard hospitality reports and customized reports, and many graphs. Yes, you can also export the reports in Excel and PDF.\\nCan I integrate all hotel modules with mycloud and can bring my hotel on the cloud completely?\\nYes, mycloud is the only & complete cloud hotel solution. It is an integrated solution with cloud modules such as property management software, point of sale, channel manager, banquets, inventory, F&B costing, back office, central reservation system, central management information system, and more. You can access your property from anywhere and anytime.\\nIf I do not like mycloud \\u2013 how long do I have to stay with you?\\nPrice is an important aspect \\u2013 but equally important (and often forgotten) is the cancellation policy. Most vendors make you pay a hefty up-front fee and then lock you into multi-year support or upgrade package. Such contracts benefit the vendor, but not the hotel. At mycloud we follow a simple philosophy \\u2013 if you like our system and it helps you to achieve your goals, you will stay with mycloud hotel software. If you are for any reason dissatisfied, you will change or cancel \\u2013 at a single month\\u2019s notice. We want to keep you as our customer so we will strive month after month to keep you happy.\\nHow can mycloud hotel software help me to automate complete hotel operations?\\nmycloud is all-in-one, simple and most powerful cloud-based hotel software that can be used by each department of the hotel to manage its operations and automate processes, system is integrated with other valued systems offering over, 175+ interfaces and provides 350+ reports. mycloud ecosystem helps you to manage everything from the hotel front desk to generate a trial balance.\\nSupport is a big issue for me \\u2013 how does mycloud provide support?\\nWe built multi-award winning mycloud hotel software to meet the highest reliability standards and ease of use. But we know that if something doesn\\u00b4t work the way you expect, there is only one aspect that really counts: fast and competent problem resolution. So, if you or your staff face difficulties using mycloud software, a competent support engineer is ready to help \\u2013 24 hours a day / 7 days a week. Our support personnel can even share your screen remotely to help pinpoint the problem and solution.\\nHow can I start using mycloud PMS?\\nYou can start by taking a 30-day free trial we offer. Professional services such as training, initial setup help, configuration, data migration \\u2013 if required \\u2013 are charged at an hourly or project rate. Apart from this, there are no hidden charges. The pricing includes free 24\\u00d77 support and all software upgrades. You can\\ncreate a trial account here\\n.\\nTRUSTED &\\nLOVED BY\\nHotels as small as 2 rooms property to 300 rooms city hotels. mycloud provides extreme amount of customization, and users can setup parameters to suit their hotel property operations\\nOUR AFFILIATION\\nAbout\\nHotel Management Software\\nF&B Management Software\\nE-Distribution\\nSocial Tools\\nBrochures\\nPrivacy Policy\\nSitemap\\n\\u00a9 2018 Prologic First All Rights Reserved\\nLaunch demo modal\\n\\u00d7\\nBOOK A DEMO\\nYour Appointment Time\\nSelect a date first\\nSelect Country\\nAfghanistan\\nAlbania\\nAlgeria\\nAndorra\\nAngola\\nAnguilla\\nAntigua and Barbuda\\nArgentina\\nArmenia\\nAruba\\nAustralia\\nAustria\\nAzerbaijan\\nBahamas\\nBahrain\\nBangladesh\\nBarbados\\nBelarus\\nBelgium\\nBelize\\nBenin\\nBhutan\\nBolivia\\nBosnia-Herzegovina\\nBotswana\\nBrazil\\nBrunei\\nBulgaria\\nBurkina Faso\\nBurundi\\nCambodia\\nCameroon\\nCanada\\nCape Verde\\nCayman Islands\\nCentral African Republic\\nChad\\nChile\\nChina\\nColombia\\nComoros\\nCongo\\nCongo Democratic Republic\\nCosta Rica\\nCroatia\\nCuba\\nCyprus\\nCzech Republic\\nDenmark\\nDjibouti\\nDominica\\nDominican Republic\\nEast Timor\\nEcuador\\nEgypt\\nEl Salvador\\nEquatorial Guinea\\nEritrea\\nEstonia\\nEthiopia\\nFalkland Islands\\nFiji\\nFinland\\nFrance\\nFrench Polynesia\\nGabon\\nGambia\\nGeorgia\\nGermany\\nGhana\\nGibraltar\\nGreece\\nGrenada\\nGuatemala\\nGuinea\\nGuinea-Bissau\\nGuyana\\nHaiti\\nHonduras\\nHong Kong\\nHungary\\nIceland\\nIndia\\nIndonesia\\nIran\\nIraq\\nIreland\\nIsrael\\nItaly\\nJamaica\\nJapan\\nJordan\\nKazakhstan\\nKenya\\nKiribati\\nKorea South\\nKuwait\\nKyrgyzstan\\nLaos\\nLatvia\\nLebanon\\nLesotho\\nLiberia\\nLibya\\nLiechtenstein\\nLithuania\\nLuxembourg\\nMacedonia\\nMadagascar\\nMalawi\\nMalaysia\\nMaldives\\nMali\\nMalta\\nMauritania\\nMauritius\\nMexico\\nMicronesia\\nMoldova\\nMonaco\\nMongolia\\nMontenegro\\nMontserrat\\nMorocco\\nMozambique\\nMyanmar\\nNamibia\\nNauru\\nNepal\\nNetherlands\\nNetherlands Antilles\\nNew Caledonia\\nNew Zealand\\nNicaragua\\nNiger\\nNigeria\\nNorth Korea\\nNorway\\nOman\\nPakistan\\nPalau\\nPanama\\nPapua New Guinea\\nParaguay\\nPeru\\nPhilippines\\nPoland\\nPortugal\\nPuerto Rico\\nQatar\\nRomania\\nRussia\\nRwanda\\nSaint Helena\\nSaint Kitts and Nevis\\nSaint Lucia\\nSaint Vincent and the Grenadines\\nSamoa\\nSan Marino\\nSao Tome and Principe\\nSaudi Arabia\\nSenegal\\nSerbia\\nSeychelles\\nSierra Leone\\nSingapore\\nSlovakia\\nSlovenia\\nSolomon Islands\\nSomalia\\nSouth Africa\\nSouth Sudan\\nSpain\\nSri Lanka\\nSudan\\nSuriname\\nSwaziland\\nSweden\\nSwitzerland\\nSyria\\nTaiwan\\nTajikistan\\nTanzania\\nThailand\\nTogo\\nTonga\\nTrinidad and Tobago\\nTunisia\\nTurkey\\nTurkmenistan\\nTuvalu\\nUganda\\nUkraine\\nUnited Arab Emirates\\nUnited Kingdom\\nUnited States of America\\nUruguay\\nUzbekistan\\nVanuatu\\nVatican\\nVenezuela\\nVietnam\\nWallis and Futuna Islands\\nYemen\\nZambia\\nZimbabwe\\nSend Message\",\n          \"Login screen - Home\\nSearch\\nSign in\\nto continue\\nEmail\\n*\\nPASSW0RD\\n*\\nsign in\\nPowered by\\nCreate your own unique website with customizable templates.\\nGet Started\"\n        ],\n        \"semantic_type\": \"\",\n        \"description\": \"\"\n      }\n    },\n    {\n      \"column\": \"Result\",\n      \"properties\": {\n        \"dtype\": \"number\",\n        \"std\": 0.4839691732994821,\n        \"min\": 0.0,\n        \"max\": 1.0,\n        \"num_unique_values\": 2,\n        \"samples\": [\n          0.0,\n          1.0\n        ],\n        \"semantic_type\": \"\",\n        \"description\": \"\"\n      }\n    }\n  ]\n}"
            }
          },
          "metadata": {},
          "execution_count": 5
        }
      ],
      "source": [
        "df.head()\n"
      ]
    },
    {
      "cell_type": "code",
      "execution_count": null,
      "metadata": {
        "colab": {
          "base_uri": "https://localhost:8080/"
        },
        "id": "zO3_JAsV2VDJ",
        "outputId": "c0eaf2c9-68fb-4546-e964-934c15ebc4c2"
      },
      "outputs": [
        {
          "output_type": "execute_result",
          "data": {
            "text/plain": [
              "(75038, 4)"
            ]
          },
          "metadata": {},
          "execution_count": 6
        }
      ],
      "source": [
        "df.shape"
      ]
    },
    {
      "cell_type": "code",
      "execution_count": null,
      "metadata": {
        "colab": {
          "base_uri": "https://localhost:8080/"
        },
        "id": "bqt7KegY64x6",
        "outputId": "e73528e1-7c37-49c4-907a-7330c9e0c7cd"
      },
      "outputs": [
        {
          "output_type": "execute_result",
          "data": {
            "text/plain": [
              "Index(['File Name', 'Title', 'Content', 'Result'], dtype='object')"
            ]
          },
          "metadata": {},
          "execution_count": 7
        }
      ],
      "source": [
        "df.columns"
      ]
    },
    {
      "cell_type": "code",
      "execution_count": null,
      "metadata": {
        "id": "z-j78-CYB5L7"
      },
      "outputs": [],
      "source": [
        "df = df.dropna()"
      ]
    },
    {
      "cell_type": "markdown",
      "metadata": {
        "id": "xMQkksU6Db_c"
      },
      "source": [
        "Tag removes"
      ]
    },
    {
      "cell_type": "code",
      "execution_count": null,
      "metadata": {
        "id": "EJLpDunvDbMg"
      },
      "outputs": [],
      "source": [
        "def remove_tags(text):\n",
        "    # Sử dụng BeautifulSoup để loại bỏ thẻ HTML\n",
        "    soup = BeautifulSoup(text, \"html.parser\")\n",
        "    return soup.get_text()"
      ]
    },
    {
      "cell_type": "markdown",
      "metadata": {
        "id": "quGF1Z2TEBCt"
      },
      "source": [
        "Stop Words"
      ]
    },
    {
      "cell_type": "code",
      "execution_count": null,
      "metadata": {
        "id": "eI3_6huuDedz"
      },
      "outputs": [],
      "source": [
        "stop_words = set(stopwords.words('english'))\n",
        "\n",
        "def remove_stop_words(text):\n",
        "    words = text.split()\n",
        "    filtered_words = [word for word in words if word.lower() not in stop_words]\n",
        "    return \" \".join(filtered_words)"
      ]
    },
    {
      "cell_type": "markdown",
      "metadata": {
        "id": "TcjQM_GoEETF"
      },
      "source": [
        "Punctuation Removal"
      ]
    },
    {
      "cell_type": "code",
      "execution_count": null,
      "metadata": {
        "id": "FR4emvHcEHep"
      },
      "outputs": [],
      "source": [
        "def remove_punctuation(text):\n",
        "    return re.sub(r'[^\\w\\s]', '', text)"
      ]
    },
    {
      "cell_type": "markdown",
      "metadata": {
        "id": "6vkBkf7AEOle"
      },
      "source": [
        "Lower"
      ]
    },
    {
      "cell_type": "code",
      "execution_count": null,
      "metadata": {
        "id": "fK8Rt_5tEPnD"
      },
      "outputs": [],
      "source": [
        "def to_lowercase(text):\n",
        "    return text.lower()"
      ]
    },
    {
      "cell_type": "markdown",
      "metadata": {
        "id": "O3-btHvpEQUC"
      },
      "source": [
        "Lemmatization:"
      ]
    },
    {
      "cell_type": "code",
      "execution_count": null,
      "metadata": {
        "id": "-KCIZMSrEXrx"
      },
      "outputs": [],
      "source": [
        "lemmatizer = WordNetLemmatizer()\n",
        "\n",
        "def apply_lemmatization(text):\n",
        "    words = text.split()\n",
        "    lemmatized_words = [lemmatizer.lemmatize(word) for word in words]\n",
        "    return \" \".join(lemmatized_words)\n"
      ]
    },
    {
      "cell_type": "markdown",
      "metadata": {
        "id": "xW2C4a-QEfZc"
      },
      "source": [
        "Tokenization"
      ]
    },
    {
      "cell_type": "code",
      "execution_count": null,
      "metadata": {
        "id": "lEDTSvJCEfpk"
      },
      "outputs": [],
      "source": [
        "def tokenize_text(text):\n",
        "    return word_tokenize(text)"
      ]
    },
    {
      "cell_type": "markdown",
      "metadata": {
        "id": "lw2MPocSEpnk"
      },
      "source": [
        "Tổng bước 2:"
      ]
    },
    {
      "cell_type": "code",
      "execution_count": null,
      "metadata": {
        "id": "l58NSsYKEkBq"
      },
      "outputs": [],
      "source": [
        "def preprocess_text(text):\n",
        "    # Bước 1: Loại bỏ thẻ HTML\n",
        "    text = remove_tags(text)\n",
        "    # Bước 2: Loại bỏ stop words\n",
        "    text = remove_stop_words(text)\n",
        "    # Bước 3: Loại bỏ dấu câu\n",
        "    text = remove_punctuation(text)\n",
        "    # Bước 4: Chuyển về chữ thường\n",
        "    text = to_lowercase(text)\n",
        "    # Bước 5: Áp dụng Lemmatization\n",
        "    text = apply_lemmatization(text)\n",
        "    # Bước 6: Tokenization\n",
        "    tokens = tokenize_text(text)\n",
        "    return tokens"
      ]
    },
    {
      "cell_type": "markdown",
      "metadata": {
        "id": "YD3wIHGuFAEV"
      },
      "source": [
        "đọc"
      ]
    },
    {
      "cell_type": "code",
      "execution_count": null,
      "metadata": {
        "id": "77-5S2odFGfw"
      },
      "outputs": [],
      "source": [
        "data = df.copy()"
      ]
    },
    {
      "cell_type": "code",
      "execution_count": null,
      "metadata": {
        "id": "qIvmuUdTo1Ab"
      },
      "outputs": [],
      "source": [
        "data = data.dropna(subset=['Content'])"
      ]
    },
    {
      "cell_type": "code",
      "execution_count": null,
      "metadata": {
        "colab": {
          "base_uri": "https://localhost:8080/"
        },
        "id": "ZPIUyxqC3by3",
        "outputId": "3c6c1f79-d965-49c1-c666-22a0130f70f5"
      },
      "outputs": [
        {
          "output_type": "stream",
          "name": "stdout",
          "text": [
            "2\n"
          ]
        }
      ],
      "source": [
        "from multiprocessing import cpu_count\n",
        "print(cpu_count())  # Số lõi CPU khả dụng (bao gồm các luồng xử lý)"
      ]
    },
    {
      "cell_type": "code",
      "execution_count": null,
      "metadata": {
        "colab": {
          "base_uri": "https://localhost:8080/"
        },
        "id": "8hu6D4_F3hRv",
        "outputId": "2646b89d-d667-4735-dbe1-2188ed1fbe89"
      },
      "outputs": [
        {
          "output_type": "stream",
          "name": "stdout",
          "text": [
            "2\n"
          ]
        }
      ],
      "source": [
        "import os\n",
        "print(os.cpu_count())  # Số lõi CPU khả dụng (bao gồm các luồng xử lý)"
      ]
    },
    {
      "cell_type": "code",
      "execution_count": null,
      "metadata": {
        "colab": {
          "base_uri": "https://localhost:8080/"
        },
        "id": "Ega6QZxa6PU6",
        "outputId": "731d333d-3705-43a8-a6a6-14bb6b5f8edd"
      },
      "outputs": [
        {
          "output_type": "stream",
          "name": "stdout",
          "text": [
            "       File Name                                              Title  \\\n",
            "0  10000847.html  Wells Fargo – Banking, Credit Cards, Loans, Mo...   \n",
            "1  10000855.html  La Banque Postale - Banque et Assurance en lig...   \n",
            "2  10000856.html                                   LCL - Mon espace   \n",
            "3  10000946.html                                           No title   \n",
            "4  10000976.html                                           Facebook   \n",
            "\n",
            "                                             Content  Result  \\\n",
            "0  Wells Fargo – Banking, Credit Cards, Loans, Mo...     1.0   \n",
            "1  La Banque Postale - Banque et Assurance en lig...     1.0   \n",
            "2  LCL - Mon espace\\nVotre identifiant\\nMémoriser...     1.0   \n",
            "3  ov&-5qtm_^yDKx!FcUWSM^AK2%9bB9~4O>4#!MXy5N3-Mp...     1.0   \n",
            "4  Facebook\\nMessenger\\nAlbin Berisha\\nAlbin shar...     1.0   \n",
            "\n",
            "                                   processed_content  \n",
            "0  [well, fargo, banking, credit, card, loan, mor...  \n",
            "1  [la, banque, postale, banque, et, assurance, e...  \n",
            "2  [lcl, mon, espace, votre, identifiant, mémoris...  \n",
            "3  [ov5qtm_ydkxfcuwsmak29bb94o4mxy5n3mpm62bkahmjd...  \n",
            "4  [facebook, messenger, albin, berisha, albin, s...  \n",
            "Processed rows: 50000\n"
          ]
        }
      ],
      "source": [
        "chunksize = 10000  # Số dòng xử lý mỗi lần\n",
        "processed_chunks = []\n",
        "\n",
        "# Giới hạn số dòng xử lý (nếu cần, ví dụ chỉ lấy tối đa 500,000 dòng đầu tiên)\n",
        "max_rows = 50000  # Số dòng tối đa cần xử lý\n",
        "\n",
        "for i in range(0, min(len(data), max_rows), chunksize):  # Lặp qua các chunk\n",
        "    chunk = data.iloc[i:i + chunksize].copy()  # Trích xuất chunk, dùng .copy() để tránh cảnh báo SettingWithCopyWarning\n",
        "    chunk['processed_content'] = chunk['Content'].apply(preprocess_text)  # Áp dụng hàm xử lý\n",
        "    processed_chunks.append(chunk)\n",
        "\n",
        "# Gộp lại tất cả các phần đã xử lý\n",
        "df_processed = pd.concat(processed_chunks, ignore_index=True)  # Sử dụng ignore_index để làm mới chỉ mục\n",
        "\n",
        "# Kiểm tra kết quả\n",
        "print(df_processed.head())\n",
        "print(f\"Processed rows: {len(df_processed)}\")"
      ]
    },
    {
      "cell_type": "code",
      "execution_count": null,
      "metadata": {
        "id": "CUNsD_ddOjrJ"
      },
      "outputs": [],
      "source": [
        "df_processed = df_processed.dropna()"
      ]
    },
    {
      "cell_type": "markdown",
      "metadata": {
        "id": "vc0DO9vbNsf9"
      },
      "source": [
        "TF-IDF"
      ]
    },
    {
      "cell_type": "code",
      "execution_count": null,
      "metadata": {
        "colab": {
          "base_uri": "https://localhost:8080/"
        },
        "id": "2lpAV5rVD267",
        "outputId": "08be561a-a0e6-4841-8366-e6805aca48ac"
      },
      "outputs": [
        {
          "output_type": "stream",
          "name": "stdout",
          "text": [
            "Kích thước ma trận TF-IDF: (50000, 5000)\n"
          ]
        }
      ],
      "source": [
        "from sklearn.feature_extraction.text import TfidfVectorizer\n",
        "from scipy.sparse import vstack\n",
        "import pandas as pd\n",
        "\n",
        "df_processed['processed_content'] = df_processed['processed_content'].apply(\n",
        "    lambda x: ' '.join(x) if isinstance(x, list) else x\n",
        ")\n",
        "\n",
        "# Khởi tạo TfidfVectorizer\n",
        "tfidf_vectorizer = TfidfVectorizer(max_features=5000, ngram_range=(1, 2))  # 1-gram và 2-gram\n",
        "\n",
        "# Kích thước mỗi chunk\n",
        "chunk_size = 100000  # Chia thành các phần 500,000 dòng\n",
        "\n",
        "# Áp dụng TF-IDF theo từng chunk\n",
        "chunks = [df_processed[i:i + chunk_size] for i in range(0, df_processed.shape[0], chunk_size)]\n",
        "tfidf_matrices = []\n",
        "\n",
        "for chunk in chunks:\n",
        "    X_chunk = tfidf_vectorizer.fit_transform(chunk['processed_content'])\n",
        "    tfidf_matrices.append(X_chunk)\n",
        "\n",
        "# Kết hợp tất cả các ma trận TF-IDF lại\n",
        "X_tfidf = vstack(tfidf_matrices)\n",
        "print(f\"Kích thước ma trận TF-IDF: {X_tfidf.shape}\")"
      ]
    },
    {
      "cell_type": "markdown",
      "metadata": {
        "id": "vx9zgdjVNv7u"
      },
      "source": [
        "# thực hiện model\n"
      ]
    },
    {
      "cell_type": "markdown",
      "metadata": {
        "id": "--NNUB7UNz4S"
      },
      "source": [
        "# RandomForest"
      ]
    },
    {
      "cell_type": "code",
      "execution_count": null,
      "metadata": {
        "id": "u-e_smqIOVmz"
      },
      "outputs": [],
      "source": [
        "from sklearn.model_selection import train_test_split"
      ]
    },
    {
      "cell_type": "code",
      "execution_count": null,
      "metadata": {
        "id": "VXGz5JkrN9S7"
      },
      "outputs": [],
      "source": [
        "#Number of legitimate website instances (labelled as 0 in the SQL file): 50,000\n",
        "#Number of phishing website instances (labelled as 1 in the SQL file): 30,000\n",
        "# Giả sử y là cột nhãn (0: URL xấu, 1: URL tốt)\n",
        "X = X_tfidf  # Ma trận TF-IDF\n",
        "y = df_processed['Result']  # Nhãn đã được chuẩn bị\n",
        "\n",
        "# Chia dữ liệu thành 80% train và 20% test\n",
        "X_train, X_test, y_train, y_test = train_test_split(X, y, test_size=0.2, random_state=42)"
      ]
    },
    {
      "cell_type": "code",
      "execution_count": null,
      "metadata": {
        "id": "4V2k9vspOX43",
        "colab": {
          "base_uri": "https://localhost:8080/",
          "height": 80
        },
        "outputId": "9b0a307a-e2be-481e-bbe8-f0ae1aebf6ad"
      },
      "outputs": [
        {
          "output_type": "execute_result",
          "data": {
            "text/plain": [
              "RandomForestClassifier(random_state=42)"
            ],
            "text/html": [
              "<style>#sk-container-id-1 {\n",
              "  /* Definition of color scheme common for light and dark mode */\n",
              "  --sklearn-color-text: #000;\n",
              "  --sklearn-color-text-muted: #666;\n",
              "  --sklearn-color-line: gray;\n",
              "  /* Definition of color scheme for unfitted estimators */\n",
              "  --sklearn-color-unfitted-level-0: #fff5e6;\n",
              "  --sklearn-color-unfitted-level-1: #f6e4d2;\n",
              "  --sklearn-color-unfitted-level-2: #ffe0b3;\n",
              "  --sklearn-color-unfitted-level-3: chocolate;\n",
              "  /* Definition of color scheme for fitted estimators */\n",
              "  --sklearn-color-fitted-level-0: #f0f8ff;\n",
              "  --sklearn-color-fitted-level-1: #d4ebff;\n",
              "  --sklearn-color-fitted-level-2: #b3dbfd;\n",
              "  --sklearn-color-fitted-level-3: cornflowerblue;\n",
              "\n",
              "  /* Specific color for light theme */\n",
              "  --sklearn-color-text-on-default-background: var(--sg-text-color, var(--theme-code-foreground, var(--jp-content-font-color1, black)));\n",
              "  --sklearn-color-background: var(--sg-background-color, var(--theme-background, var(--jp-layout-color0, white)));\n",
              "  --sklearn-color-border-box: var(--sg-text-color, var(--theme-code-foreground, var(--jp-content-font-color1, black)));\n",
              "  --sklearn-color-icon: #696969;\n",
              "\n",
              "  @media (prefers-color-scheme: dark) {\n",
              "    /* Redefinition of color scheme for dark theme */\n",
              "    --sklearn-color-text-on-default-background: var(--sg-text-color, var(--theme-code-foreground, var(--jp-content-font-color1, white)));\n",
              "    --sklearn-color-background: var(--sg-background-color, var(--theme-background, var(--jp-layout-color0, #111)));\n",
              "    --sklearn-color-border-box: var(--sg-text-color, var(--theme-code-foreground, var(--jp-content-font-color1, white)));\n",
              "    --sklearn-color-icon: #878787;\n",
              "  }\n",
              "}\n",
              "\n",
              "#sk-container-id-1 {\n",
              "  color: var(--sklearn-color-text);\n",
              "}\n",
              "\n",
              "#sk-container-id-1 pre {\n",
              "  padding: 0;\n",
              "}\n",
              "\n",
              "#sk-container-id-1 input.sk-hidden--visually {\n",
              "  border: 0;\n",
              "  clip: rect(1px 1px 1px 1px);\n",
              "  clip: rect(1px, 1px, 1px, 1px);\n",
              "  height: 1px;\n",
              "  margin: -1px;\n",
              "  overflow: hidden;\n",
              "  padding: 0;\n",
              "  position: absolute;\n",
              "  width: 1px;\n",
              "}\n",
              "\n",
              "#sk-container-id-1 div.sk-dashed-wrapped {\n",
              "  border: 1px dashed var(--sklearn-color-line);\n",
              "  margin: 0 0.4em 0.5em 0.4em;\n",
              "  box-sizing: border-box;\n",
              "  padding-bottom: 0.4em;\n",
              "  background-color: var(--sklearn-color-background);\n",
              "}\n",
              "\n",
              "#sk-container-id-1 div.sk-container {\n",
              "  /* jupyter's `normalize.less` sets `[hidden] { display: none; }`\n",
              "     but bootstrap.min.css set `[hidden] { display: none !important; }`\n",
              "     so we also need the `!important` here to be able to override the\n",
              "     default hidden behavior on the sphinx rendered scikit-learn.org.\n",
              "     See: https://github.com/scikit-learn/scikit-learn/issues/21755 */\n",
              "  display: inline-block !important;\n",
              "  position: relative;\n",
              "}\n",
              "\n",
              "#sk-container-id-1 div.sk-text-repr-fallback {\n",
              "  display: none;\n",
              "}\n",
              "\n",
              "div.sk-parallel-item,\n",
              "div.sk-serial,\n",
              "div.sk-item {\n",
              "  /* draw centered vertical line to link estimators */\n",
              "  background-image: linear-gradient(var(--sklearn-color-text-on-default-background), var(--sklearn-color-text-on-default-background));\n",
              "  background-size: 2px 100%;\n",
              "  background-repeat: no-repeat;\n",
              "  background-position: center center;\n",
              "}\n",
              "\n",
              "/* Parallel-specific style estimator block */\n",
              "\n",
              "#sk-container-id-1 div.sk-parallel-item::after {\n",
              "  content: \"\";\n",
              "  width: 100%;\n",
              "  border-bottom: 2px solid var(--sklearn-color-text-on-default-background);\n",
              "  flex-grow: 1;\n",
              "}\n",
              "\n",
              "#sk-container-id-1 div.sk-parallel {\n",
              "  display: flex;\n",
              "  align-items: stretch;\n",
              "  justify-content: center;\n",
              "  background-color: var(--sklearn-color-background);\n",
              "  position: relative;\n",
              "}\n",
              "\n",
              "#sk-container-id-1 div.sk-parallel-item {\n",
              "  display: flex;\n",
              "  flex-direction: column;\n",
              "}\n",
              "\n",
              "#sk-container-id-1 div.sk-parallel-item:first-child::after {\n",
              "  align-self: flex-end;\n",
              "  width: 50%;\n",
              "}\n",
              "\n",
              "#sk-container-id-1 div.sk-parallel-item:last-child::after {\n",
              "  align-self: flex-start;\n",
              "  width: 50%;\n",
              "}\n",
              "\n",
              "#sk-container-id-1 div.sk-parallel-item:only-child::after {\n",
              "  width: 0;\n",
              "}\n",
              "\n",
              "/* Serial-specific style estimator block */\n",
              "\n",
              "#sk-container-id-1 div.sk-serial {\n",
              "  display: flex;\n",
              "  flex-direction: column;\n",
              "  align-items: center;\n",
              "  background-color: var(--sklearn-color-background);\n",
              "  padding-right: 1em;\n",
              "  padding-left: 1em;\n",
              "}\n",
              "\n",
              "\n",
              "/* Toggleable style: style used for estimator/Pipeline/ColumnTransformer box that is\n",
              "clickable and can be expanded/collapsed.\n",
              "- Pipeline and ColumnTransformer use this feature and define the default style\n",
              "- Estimators will overwrite some part of the style using the `sk-estimator` class\n",
              "*/\n",
              "\n",
              "/* Pipeline and ColumnTransformer style (default) */\n",
              "\n",
              "#sk-container-id-1 div.sk-toggleable {\n",
              "  /* Default theme specific background. It is overwritten whether we have a\n",
              "  specific estimator or a Pipeline/ColumnTransformer */\n",
              "  background-color: var(--sklearn-color-background);\n",
              "}\n",
              "\n",
              "/* Toggleable label */\n",
              "#sk-container-id-1 label.sk-toggleable__label {\n",
              "  cursor: pointer;\n",
              "  display: flex;\n",
              "  width: 100%;\n",
              "  margin-bottom: 0;\n",
              "  padding: 0.5em;\n",
              "  box-sizing: border-box;\n",
              "  text-align: center;\n",
              "  align-items: start;\n",
              "  justify-content: space-between;\n",
              "  gap: 0.5em;\n",
              "}\n",
              "\n",
              "#sk-container-id-1 label.sk-toggleable__label .caption {\n",
              "  font-size: 0.6rem;\n",
              "  font-weight: lighter;\n",
              "  color: var(--sklearn-color-text-muted);\n",
              "}\n",
              "\n",
              "#sk-container-id-1 label.sk-toggleable__label-arrow:before {\n",
              "  /* Arrow on the left of the label */\n",
              "  content: \"▸\";\n",
              "  float: left;\n",
              "  margin-right: 0.25em;\n",
              "  color: var(--sklearn-color-icon);\n",
              "}\n",
              "\n",
              "#sk-container-id-1 label.sk-toggleable__label-arrow:hover:before {\n",
              "  color: var(--sklearn-color-text);\n",
              "}\n",
              "\n",
              "/* Toggleable content - dropdown */\n",
              "\n",
              "#sk-container-id-1 div.sk-toggleable__content {\n",
              "  max-height: 0;\n",
              "  max-width: 0;\n",
              "  overflow: hidden;\n",
              "  text-align: left;\n",
              "  /* unfitted */\n",
              "  background-color: var(--sklearn-color-unfitted-level-0);\n",
              "}\n",
              "\n",
              "#sk-container-id-1 div.sk-toggleable__content.fitted {\n",
              "  /* fitted */\n",
              "  background-color: var(--sklearn-color-fitted-level-0);\n",
              "}\n",
              "\n",
              "#sk-container-id-1 div.sk-toggleable__content pre {\n",
              "  margin: 0.2em;\n",
              "  border-radius: 0.25em;\n",
              "  color: var(--sklearn-color-text);\n",
              "  /* unfitted */\n",
              "  background-color: var(--sklearn-color-unfitted-level-0);\n",
              "}\n",
              "\n",
              "#sk-container-id-1 div.sk-toggleable__content.fitted pre {\n",
              "  /* unfitted */\n",
              "  background-color: var(--sklearn-color-fitted-level-0);\n",
              "}\n",
              "\n",
              "#sk-container-id-1 input.sk-toggleable__control:checked~div.sk-toggleable__content {\n",
              "  /* Expand drop-down */\n",
              "  max-height: 200px;\n",
              "  max-width: 100%;\n",
              "  overflow: auto;\n",
              "}\n",
              "\n",
              "#sk-container-id-1 input.sk-toggleable__control:checked~label.sk-toggleable__label-arrow:before {\n",
              "  content: \"▾\";\n",
              "}\n",
              "\n",
              "/* Pipeline/ColumnTransformer-specific style */\n",
              "\n",
              "#sk-container-id-1 div.sk-label input.sk-toggleable__control:checked~label.sk-toggleable__label {\n",
              "  color: var(--sklearn-color-text);\n",
              "  background-color: var(--sklearn-color-unfitted-level-2);\n",
              "}\n",
              "\n",
              "#sk-container-id-1 div.sk-label.fitted input.sk-toggleable__control:checked~label.sk-toggleable__label {\n",
              "  background-color: var(--sklearn-color-fitted-level-2);\n",
              "}\n",
              "\n",
              "/* Estimator-specific style */\n",
              "\n",
              "/* Colorize estimator box */\n",
              "#sk-container-id-1 div.sk-estimator input.sk-toggleable__control:checked~label.sk-toggleable__label {\n",
              "  /* unfitted */\n",
              "  background-color: var(--sklearn-color-unfitted-level-2);\n",
              "}\n",
              "\n",
              "#sk-container-id-1 div.sk-estimator.fitted input.sk-toggleable__control:checked~label.sk-toggleable__label {\n",
              "  /* fitted */\n",
              "  background-color: var(--sklearn-color-fitted-level-2);\n",
              "}\n",
              "\n",
              "#sk-container-id-1 div.sk-label label.sk-toggleable__label,\n",
              "#sk-container-id-1 div.sk-label label {\n",
              "  /* The background is the default theme color */\n",
              "  color: var(--sklearn-color-text-on-default-background);\n",
              "}\n",
              "\n",
              "/* On hover, darken the color of the background */\n",
              "#sk-container-id-1 div.sk-label:hover label.sk-toggleable__label {\n",
              "  color: var(--sklearn-color-text);\n",
              "  background-color: var(--sklearn-color-unfitted-level-2);\n",
              "}\n",
              "\n",
              "/* Label box, darken color on hover, fitted */\n",
              "#sk-container-id-1 div.sk-label.fitted:hover label.sk-toggleable__label.fitted {\n",
              "  color: var(--sklearn-color-text);\n",
              "  background-color: var(--sklearn-color-fitted-level-2);\n",
              "}\n",
              "\n",
              "/* Estimator label */\n",
              "\n",
              "#sk-container-id-1 div.sk-label label {\n",
              "  font-family: monospace;\n",
              "  font-weight: bold;\n",
              "  display: inline-block;\n",
              "  line-height: 1.2em;\n",
              "}\n",
              "\n",
              "#sk-container-id-1 div.sk-label-container {\n",
              "  text-align: center;\n",
              "}\n",
              "\n",
              "/* Estimator-specific */\n",
              "#sk-container-id-1 div.sk-estimator {\n",
              "  font-family: monospace;\n",
              "  border: 1px dotted var(--sklearn-color-border-box);\n",
              "  border-radius: 0.25em;\n",
              "  box-sizing: border-box;\n",
              "  margin-bottom: 0.5em;\n",
              "  /* unfitted */\n",
              "  background-color: var(--sklearn-color-unfitted-level-0);\n",
              "}\n",
              "\n",
              "#sk-container-id-1 div.sk-estimator.fitted {\n",
              "  /* fitted */\n",
              "  background-color: var(--sklearn-color-fitted-level-0);\n",
              "}\n",
              "\n",
              "/* on hover */\n",
              "#sk-container-id-1 div.sk-estimator:hover {\n",
              "  /* unfitted */\n",
              "  background-color: var(--sklearn-color-unfitted-level-2);\n",
              "}\n",
              "\n",
              "#sk-container-id-1 div.sk-estimator.fitted:hover {\n",
              "  /* fitted */\n",
              "  background-color: var(--sklearn-color-fitted-level-2);\n",
              "}\n",
              "\n",
              "/* Specification for estimator info (e.g. \"i\" and \"?\") */\n",
              "\n",
              "/* Common style for \"i\" and \"?\" */\n",
              "\n",
              ".sk-estimator-doc-link,\n",
              "a:link.sk-estimator-doc-link,\n",
              "a:visited.sk-estimator-doc-link {\n",
              "  float: right;\n",
              "  font-size: smaller;\n",
              "  line-height: 1em;\n",
              "  font-family: monospace;\n",
              "  background-color: var(--sklearn-color-background);\n",
              "  border-radius: 1em;\n",
              "  height: 1em;\n",
              "  width: 1em;\n",
              "  text-decoration: none !important;\n",
              "  margin-left: 0.5em;\n",
              "  text-align: center;\n",
              "  /* unfitted */\n",
              "  border: var(--sklearn-color-unfitted-level-1) 1pt solid;\n",
              "  color: var(--sklearn-color-unfitted-level-1);\n",
              "}\n",
              "\n",
              ".sk-estimator-doc-link.fitted,\n",
              "a:link.sk-estimator-doc-link.fitted,\n",
              "a:visited.sk-estimator-doc-link.fitted {\n",
              "  /* fitted */\n",
              "  border: var(--sklearn-color-fitted-level-1) 1pt solid;\n",
              "  color: var(--sklearn-color-fitted-level-1);\n",
              "}\n",
              "\n",
              "/* On hover */\n",
              "div.sk-estimator:hover .sk-estimator-doc-link:hover,\n",
              ".sk-estimator-doc-link:hover,\n",
              "div.sk-label-container:hover .sk-estimator-doc-link:hover,\n",
              ".sk-estimator-doc-link:hover {\n",
              "  /* unfitted */\n",
              "  background-color: var(--sklearn-color-unfitted-level-3);\n",
              "  color: var(--sklearn-color-background);\n",
              "  text-decoration: none;\n",
              "}\n",
              "\n",
              "div.sk-estimator.fitted:hover .sk-estimator-doc-link.fitted:hover,\n",
              ".sk-estimator-doc-link.fitted:hover,\n",
              "div.sk-label-container:hover .sk-estimator-doc-link.fitted:hover,\n",
              ".sk-estimator-doc-link.fitted:hover {\n",
              "  /* fitted */\n",
              "  background-color: var(--sklearn-color-fitted-level-3);\n",
              "  color: var(--sklearn-color-background);\n",
              "  text-decoration: none;\n",
              "}\n",
              "\n",
              "/* Span, style for the box shown on hovering the info icon */\n",
              ".sk-estimator-doc-link span {\n",
              "  display: none;\n",
              "  z-index: 9999;\n",
              "  position: relative;\n",
              "  font-weight: normal;\n",
              "  right: .2ex;\n",
              "  padding: .5ex;\n",
              "  margin: .5ex;\n",
              "  width: min-content;\n",
              "  min-width: 20ex;\n",
              "  max-width: 50ex;\n",
              "  color: var(--sklearn-color-text);\n",
              "  box-shadow: 2pt 2pt 4pt #999;\n",
              "  /* unfitted */\n",
              "  background: var(--sklearn-color-unfitted-level-0);\n",
              "  border: .5pt solid var(--sklearn-color-unfitted-level-3);\n",
              "}\n",
              "\n",
              ".sk-estimator-doc-link.fitted span {\n",
              "  /* fitted */\n",
              "  background: var(--sklearn-color-fitted-level-0);\n",
              "  border: var(--sklearn-color-fitted-level-3);\n",
              "}\n",
              "\n",
              ".sk-estimator-doc-link:hover span {\n",
              "  display: block;\n",
              "}\n",
              "\n",
              "/* \"?\"-specific style due to the `<a>` HTML tag */\n",
              "\n",
              "#sk-container-id-1 a.estimator_doc_link {\n",
              "  float: right;\n",
              "  font-size: 1rem;\n",
              "  line-height: 1em;\n",
              "  font-family: monospace;\n",
              "  background-color: var(--sklearn-color-background);\n",
              "  border-radius: 1rem;\n",
              "  height: 1rem;\n",
              "  width: 1rem;\n",
              "  text-decoration: none;\n",
              "  /* unfitted */\n",
              "  color: var(--sklearn-color-unfitted-level-1);\n",
              "  border: var(--sklearn-color-unfitted-level-1) 1pt solid;\n",
              "}\n",
              "\n",
              "#sk-container-id-1 a.estimator_doc_link.fitted {\n",
              "  /* fitted */\n",
              "  border: var(--sklearn-color-fitted-level-1) 1pt solid;\n",
              "  color: var(--sklearn-color-fitted-level-1);\n",
              "}\n",
              "\n",
              "/* On hover */\n",
              "#sk-container-id-1 a.estimator_doc_link:hover {\n",
              "  /* unfitted */\n",
              "  background-color: var(--sklearn-color-unfitted-level-3);\n",
              "  color: var(--sklearn-color-background);\n",
              "  text-decoration: none;\n",
              "}\n",
              "\n",
              "#sk-container-id-1 a.estimator_doc_link.fitted:hover {\n",
              "  /* fitted */\n",
              "  background-color: var(--sklearn-color-fitted-level-3);\n",
              "}\n",
              "</style><div id=\"sk-container-id-1\" class=\"sk-top-container\"><div class=\"sk-text-repr-fallback\"><pre>RandomForestClassifier(random_state=42)</pre><b>In a Jupyter environment, please rerun this cell to show the HTML representation or trust the notebook. <br />On GitHub, the HTML representation is unable to render, please try loading this page with nbviewer.org.</b></div><div class=\"sk-container\" hidden><div class=\"sk-item\"><div class=\"sk-estimator fitted sk-toggleable\"><input class=\"sk-toggleable__control sk-hidden--visually\" id=\"sk-estimator-id-1\" type=\"checkbox\" checked><label for=\"sk-estimator-id-1\" class=\"sk-toggleable__label fitted sk-toggleable__label-arrow\"><div><div>RandomForestClassifier</div></div><div><a class=\"sk-estimator-doc-link fitted\" rel=\"noreferrer\" target=\"_blank\" href=\"https://scikit-learn.org/1.6/modules/generated/sklearn.ensemble.RandomForestClassifier.html\">?<span>Documentation for RandomForestClassifier</span></a><span class=\"sk-estimator-doc-link fitted\">i<span>Fitted</span></span></div></label><div class=\"sk-toggleable__content fitted\"><pre>RandomForestClassifier(random_state=42)</pre></div> </div></div></div></div>"
            ]
          },
          "metadata": {},
          "execution_count": 25
        }
      ],
      "source": [
        "from sklearn.ensemble import RandomForestClassifier\n",
        "\n",
        "# Khởi tạo mô hình Random Forest\n",
        "rf_model = RandomForestClassifier(n_estimators=100, random_state=42)  # n_estimators: số lượng cây\n",
        "\n",
        "# Huấn luyện mô hình\n",
        "rf_model.fit(X_train, y_train)"
      ]
    },
    {
      "cell_type": "code",
      "execution_count": null,
      "metadata": {
        "id": "_pQvUruuOaDV",
        "colab": {
          "base_uri": "https://localhost:8080/"
        },
        "outputId": "b1a7020e-fc4b-4ece-b4d5-35753d9eba4e"
      },
      "outputs": [
        {
          "output_type": "stream",
          "name": "stdout",
          "text": [
            "Accuracy: 96.00%\n",
            "              precision    recall  f1-score   support\n",
            "\n",
            "         0.0       0.97      0.97      0.97      6436\n",
            "         1.0       0.95      0.94      0.94      3564\n",
            "\n",
            "    accuracy                           0.96     10000\n",
            "   macro avg       0.96      0.96      0.96     10000\n",
            "weighted avg       0.96      0.96      0.96     10000\n",
            "\n"
          ]
        }
      ],
      "source": [
        "from sklearn.metrics import accuracy_score, classification_report\n",
        "\n",
        "# Dự đoán trên tập kiểm tra\n",
        "y_pred = rf_model.predict(X_test)\n",
        "\n",
        "# Tính độ chính xác\n",
        "accuracy = accuracy_score(y_test, y_pred)\n",
        "print(f\"Accuracy: {accuracy * 100:.2f}%\")\n",
        "\n",
        "# Báo cáo chi tiết\n",
        "print(classification_report(y_test, y_pred))"
      ]
    },
    {
      "cell_type": "code",
      "execution_count": null,
      "metadata": {
        "id": "WqOe5fjQmS4V"
      },
      "outputs": [],
      "source": []
    },
    {
      "cell_type": "markdown",
      "metadata": {
        "id": "7HXMHeRas2Ce"
      },
      "source": [
        "#SVM\n"
      ]
    },
    {
      "cell_type": "code",
      "execution_count": null,
      "metadata": {
        "colab": {
          "base_uri": "https://localhost:8080/"
        },
        "id": "5fLoHaRCs3Tv",
        "outputId": "f1ae6ba4-d31e-4223-caee-a281dd14f658"
      },
      "outputs": [
        {
          "output_type": "stream",
          "name": "stdout",
          "text": [
            "Số lượng mẫu trong tập huấn luyện: (40000, 5000)\n",
            "Số lượng mẫu trong tập kiểm tra: (10000, 5000)\n"
          ]
        }
      ],
      "source": [
        "from sklearn.model_selection import train_test_split\n",
        "\n",
        "# Chia dữ liệu\n",
        "X_train, X_test, y_train, y_test = train_test_split(\n",
        "X_tfidf, df_processed['Result'], test_size=0.2, random_state=42\n",
        ")\n",
        "\n",
        "print(f\"Số lượng mẫu trong tập huấn luyện: {X_train.shape}\")\n",
        "print(f\"Số lượng mẫu trong tập kiểm tra: {X_test.shape}\")"
      ]
    },
    {
      "cell_type": "code",
      "execution_count": null,
      "metadata": {
        "colab": {
          "base_uri": "https://localhost:8080/"
        },
        "id": "mpkjCjcAs4Pz",
        "outputId": "f72ccb9d-9e80-4f70-e764-ba65b420fbfa"
      },
      "outputs": [
        {
          "output_type": "stream",
          "name": "stdout",
          "text": [
            "Báo cáo phân loại:\n",
            "              precision    recall  f1-score   support\n",
            "\n",
            "         0.0       0.97      0.96      0.96      6436\n",
            "         1.0       0.92      0.94      0.93      3564\n",
            "\n",
            "    accuracy                           0.95     10000\n",
            "   macro avg       0.95      0.95      0.95     10000\n",
            "weighted avg       0.95      0.95      0.95     10000\n",
            "\n",
            "Độ chính xác: 0.9516\n"
          ]
        }
      ],
      "source": [
        "from sklearn.svm import LinearSVC\n",
        "from sklearn.metrics import classification_report, accuracy_score\n",
        "\n",
        "# Khởi tạo mô hình SVM\n",
        "svm_model = LinearSVC(random_state=42)\n",
        "\n",
        "# Huấn luyện mô hình trên tập huấn luyện\n",
        "svm_model.fit(X_train, y_train)\n",
        "\n",
        "# Dự đoán trên tập kiểm tra\n",
        "y_pred = svm_model.predict(X_test)\n",
        "\n",
        "# Đánh giá hiệu suất mô hình\n",
        "print(\"Báo cáo phân loại:\")\n",
        "print(classification_report(y_test, y_pred))\n",
        "print(f\"Độ chính xác: {accuracy_score(y_test, y_pred):.4f}\")"
      ]
    },
    {
      "cell_type": "code",
      "execution_count": null,
      "metadata": {
        "colab": {
          "base_uri": "https://localhost:8080/"
        },
        "id": "SXKRsBtws9Eq",
        "outputId": "60de255d-b035-4b4d-b187-de16f5899260"
      },
      "outputs": [
        {
          "output_type": "stream",
          "name": "stdout",
          "text": [
            "Best parameters: {'C': 1, 'max_iter': 1000}\n",
            "Best cross-validation accuracy: 0.9509\n"
          ]
        }
      ],
      "source": [
        "from sklearn.model_selection import GridSearchCV\n",
        "\n",
        "# Định nghĩa các tham số cần tối ưu\n",
        "param_grid = {\n",
        "    'C': [0.01, 0.1, 1, 10, 100],\n",
        "    'max_iter': [1000, 2000, 3000]\n",
        "}\n",
        "\n",
        "# Khởi tạo GridSearchCV\n",
        "grid_search = GridSearchCV(\n",
        "    LinearSVC(random_state=42), param_grid, cv=5, scoring='accuracy'\n",
        ")\n",
        "\n",
        "# Tìm kiếm tham số tối ưu\n",
        "grid_search.fit(X_train, y_train)\n",
        "\n",
        "print(f\"Best parameters: {grid_search.best_params_}\")\n",
        "print(f\"Best cross-validation accuracy: {grid_search.best_score_:.4f}\")"
      ]
    },
    {
      "cell_type": "code",
      "execution_count": null,
      "metadata": {
        "id": "40q5H48XtAeA"
      },
      "outputs": [],
      "source": [
        "import joblib\n",
        "\n",
        "# Lưu mô hình\n",
        "joblib.dump(svm_model, 'svm_model.pkl')\n",
        "\n",
        "# Tải lại mô hình khi cần thiết\n",
        "loaded_model = joblib.load('svm_model.pkl')\n",
        "\n",
        "# Sử dụng mô hình để dự đoán\n",
        "new_predictions = loaded_model.predict(X_test)"
      ]
    },
    {
      "cell_type": "markdown",
      "metadata": {
        "id": "wOBtWs29T_Vh"
      },
      "source": [
        "#word2vec và TF-IDF\n"
      ]
    },
    {
      "cell_type": "code",
      "execution_count": null,
      "metadata": {
        "id": "SV4IdZu5T8l-",
        "colab": {
          "base_uri": "https://localhost:8080/",
          "height": 211
        },
        "outputId": "e9927ee8-f21e-4f72-9eed-e62fa2909d23"
      },
      "outputs": [
        {
          "output_type": "error",
          "ename": "NameError",
          "evalue": "name 'sentences' is not defined",
          "traceback": [
            "\u001b[0;31m---------------------------------------------------------------------------\u001b[0m",
            "\u001b[0;31mNameError\u001b[0m                                 Traceback (most recent call last)",
            "\u001b[0;32m<ipython-input-31-ed1cfd030360>\u001b[0m in \u001b[0;36m<cell line: 6>\u001b[0;34m()\u001b[0m\n\u001b[1;32m      4\u001b[0m \u001b[0;34m\u001b[0m\u001b[0m\n\u001b[1;32m      5\u001b[0m \u001b[0;31m# 1. Khởi tạo Word2Vec và TF-IDF\u001b[0m\u001b[0;34m\u001b[0m\u001b[0;34m\u001b[0m\u001b[0m\n\u001b[0;32m----> 6\u001b[0;31m \u001b[0mword2vec_model\u001b[0m \u001b[0;34m=\u001b[0m \u001b[0mWord2Vec\u001b[0m\u001b[0;34m(\u001b[0m\u001b[0msentences\u001b[0m\u001b[0;34m,\u001b[0m \u001b[0mvector_size\u001b[0m\u001b[0;34m=\u001b[0m\u001b[0;36m100\u001b[0m\u001b[0;34m,\u001b[0m \u001b[0mwindow\u001b[0m\u001b[0;34m=\u001b[0m\u001b[0;36m5\u001b[0m\u001b[0;34m,\u001b[0m \u001b[0mmin_count\u001b[0m\u001b[0;34m=\u001b[0m\u001b[0;36m1\u001b[0m\u001b[0;34m,\u001b[0m \u001b[0msg\u001b[0m\u001b[0;34m=\u001b[0m\u001b[0;36m1\u001b[0m\u001b[0;34m)\u001b[0m  \u001b[0;31m# Skip-Gram model\u001b[0m\u001b[0;34m\u001b[0m\u001b[0;34m\u001b[0m\u001b[0m\n\u001b[0m\u001b[1;32m      7\u001b[0m \u001b[0mtfidf_vectorizer\u001b[0m \u001b[0;34m=\u001b[0m \u001b[0mTfidfVectorizer\u001b[0m\u001b[0;34m(\u001b[0m\u001b[0;34m)\u001b[0m\u001b[0;34m\u001b[0m\u001b[0;34m\u001b[0m\u001b[0m\n\u001b[1;32m      8\u001b[0m \u001b[0mtfidf_matrix\u001b[0m \u001b[0;34m=\u001b[0m \u001b[0mtfidf_vectorizer\u001b[0m\u001b[0;34m.\u001b[0m\u001b[0mfit_transform\u001b[0m\u001b[0;34m(\u001b[0m\u001b[0msentences_as_strings\u001b[0m\u001b[0;34m)\u001b[0m\u001b[0;34m\u001b[0m\u001b[0;34m\u001b[0m\u001b[0m\n",
            "\u001b[0;31mNameError\u001b[0m: name 'sentences' is not defined"
          ]
        }
      ],
      "source": [
        "import numpy as np\n",
        "from gensim.models import Word2Vec\n",
        "from sklearn.feature_extraction.text import TfidfVectorizer\n",
        "\n",
        "# 1. Khởi tạo Word2Vec và TF-IDF\n",
        "word2vec_model = Word2Vec(sentences, vector_size=100, window=5, min_count=1, sg=1)  # Skip-Gram model\n",
        "tfidf_vectorizer = TfidfVectorizer()\n",
        "tfidf_matrix = tfidf_vectorizer.fit_transform(sentences_as_strings)\n",
        "\n",
        "# 2. Lấy từ điển TF-IDF\n",
        "tfidf_vocab = tfidf_vectorizer.vocabulary_\n",
        "tfidf_weights = dict(zip(tfidf_vectorizer.get_feature_names_out(), tfidf_vectorizer.idf_))\n",
        "\n",
        "# 3. Kết hợp Word2Vec và TF-IDF\n",
        "def sentence_vector(sentence, word2vec_model, tfidf_weights):\n",
        "    vector_size = word2vec_model.vector_size\n",
        "    words = sentence.split()\n",
        "    tfidf_weighted_vectors = []\n",
        "\n",
        "    for word in words:\n",
        "        if word in word2vec_model.wv and word in tfidf_weights:\n",
        "            tfidf_weight = tfidf_weights[word]\n",
        "            word_vector = word2vec_model.wv[word]\n",
        "            tfidf_weighted_vectors.append(tfidf_weight * word_vector)\n",
        "\n",
        "    if tfidf_weighted_vectors:\n",
        "        return np.mean(tfidf_weighted_vectors, axis=0)  # Vector trung bình\n",
        "    else:\n",
        "        return np.zeros(vector_size)\n",
        "\n",
        "# Tính vector cho từng câu\n",
        "sentence_vectors = [sentence_vector(sentence, word2vec_model, tfidf_weights) for sentence in sentences_as_strings]\n"
      ]
    },
    {
      "cell_type": "code",
      "source": [
        "kkkkkkkk\n"
      ],
      "metadata": {
        "id": "xXJr1Sqb6rKo"
      },
      "execution_count": null,
      "outputs": []
    }
  ],
  "metadata": {
    "colab": {
      "provenance": [],
      "gpuType": "T4",
      "include_colab_link": true
    },
    "kernelspec": {
      "display_name": "Python 3",
      "name": "python3"
    },
    "language_info": {
      "name": "python"
    },
    "accelerator": "GPU"
  },
  "nbformat": 4,
  "nbformat_minor": 0
}